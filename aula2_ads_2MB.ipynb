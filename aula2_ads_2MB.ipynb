{
  "nbformat": 4,
  "nbformat_minor": 0,
  "metadata": {
    "colab": {
      "provenance": [],
      "authorship_tag": "ABX9TyPhwwMOlS/ARZqa8YbmasPo",
      "include_colab_link": true
    },
    "kernelspec": {
      "name": "python3",
      "display_name": "Python 3"
    },
    "language_info": {
      "name": "python"
    }
  },
  "cells": [
    {
      "cell_type": "markdown",
      "metadata": {
        "id": "view-in-github",
        "colab_type": "text"
      },
      "source": [
        "<a href=\"https://colab.research.google.com/github/lslucasO/aula2_ads_2MB/blob/master/aula2_ads_2MB.ipynb\" target=\"_parent\"><img src=\"https://colab.research.google.com/assets/colab-badge.svg\" alt=\"Open In Colab\"/></a>"
      ]
    },
    {
      "cell_type": "code",
      "execution_count": null,
      "metadata": {
        "colab": {
          "base_uri": "https://localhost:8080/"
        },
        "id": "9wHdkGbvlDyO",
        "outputId": "7645e53c-15cd-487e-86fe-266121ade363"
      },
      "outputs": [
        {
          "output_type": "stream",
          "name": "stdout",
          "text": [
            "<class 'bool'>\n"
          ]
        }
      ],
      "source": [
        "# UNINASSAU\n",
        "# DOCENTE: CLOVES ROCHA\n",
        "# ESTUDANTES: LUCAS, BRUNO\n",
        "\n",
        "#print(\"Cloves\")\n",
        "\n",
        "d = \"cloves\"\n",
        "print(type(d))\n"
      ]
    }
  ]
}